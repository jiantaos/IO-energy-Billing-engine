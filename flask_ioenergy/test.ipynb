{
 "cells": [
  {
   "cell_type": "code",
   "execution_count": null,
   "metadata": {},
   "outputs": [],
   "source": [
    "from itertools import product\n",
    "import datetime\n",
    "\n",
    "today = datetime.date.today()\n",
    "\n",
    "years, months = xrange(1993, today.year + 1), xrange(1, 13)\n",
    "for state_fips, year, month in product((4, 5, 6), years, months):\n",
    "    yearMonth1 = year, month, state_fips\n",
    "    print yearMonth1\n",
    "    # break out of month loop if this month is reached\n",
    "    if (year, month) == (today.year, today.month):\n",
    "        break"
   ]
  }
 ],
 "metadata": {
  "language_info": {
   "name": "python"
  },
  "orig_nbformat": 4
 },
 "nbformat": 4,
 "nbformat_minor": 2
}
